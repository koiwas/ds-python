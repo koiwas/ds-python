{
 "cells": [
  {
   "cell_type": "markdown",
   "id": "67ffb843-6635-4a43-8553-f166851ab540",
   "metadata": {},
   "source": [
    "# 条件分岐(if文)"
   ]
  },
  {
   "cell_type": "code",
   "execution_count": 1,
   "id": "c8195bf6-4044-463e-aadf-c763908473bd",
   "metadata": {
    "tags": []
   },
   "outputs": [],
   "source": [
    "a = 1"
   ]
  },
  {
   "cell_type": "code",
   "execution_count": 2,
   "id": "89ad740c-ab47-43e7-be61-8e1ecafc54a4",
   "metadata": {
    "tags": []
   },
   "outputs": [
    {
     "name": "stdout",
     "output_type": "stream",
     "text": [
      "a is 1\n"
     ]
    }
   ],
   "source": [
    "if a == 1:\n",
    "    print('a is 1')"
   ]
  },
  {
   "cell_type": "code",
   "execution_count": 4,
   "id": "73253fd6-e71b-411b-a801-11341ecfcf9c",
   "metadata": {
    "tags": []
   },
   "outputs": [],
   "source": [
    "b = 2"
   ]
  },
  {
   "cell_type": "code",
   "execution_count": 5,
   "id": "f119bec6-6855-49be-90e6-525cdd0d43f9",
   "metadata": {
    "tags": []
   },
   "outputs": [
    {
     "name": "stdout",
     "output_type": "stream",
     "text": [
      "b is not 1\n"
     ]
    }
   ],
   "source": [
    "if b == 1:\n",
    "    print('b is 1')\n",
    "else:\n",
    "    print('b is not 1')"
   ]
  },
  {
   "cell_type": "code",
   "execution_count": 6,
   "id": "973fe586-6964-4806-9c77-6f6644ede2f3",
   "metadata": {
    "tags": []
   },
   "outputs": [],
   "source": [
    "c = 3"
   ]
  },
  {
   "cell_type": "code",
   "execution_count": 7,
   "id": "23c63590-811a-4ec4-8f6a-f44b825f7fc7",
   "metadata": {
    "tags": []
   },
   "outputs": [
    {
     "name": "stdout",
     "output_type": "stream",
     "text": [
      "c is something else\n"
     ]
    }
   ],
   "source": [
    "if c == 1:\n",
    "    print('c is 1')\n",
    "elif c < 1:\n",
    "    print('c is less than 1')\n",
    "else:\n",
    "    print('c is something else')"
   ]
  },
  {
   "cell_type": "markdown",
   "id": "f3207f67-4a1e-4893-bc1b-016908096f55",
   "metadata": {},
   "source": [
    "### 三項演算子"
   ]
  },
  {
   "cell_type": "code",
   "execution_count": 9,
   "id": "a2a20056-24f5-49b0-b765-3e20350f6b46",
   "metadata": {
    "tags": []
   },
   "outputs": [
    {
     "name": "stdout",
     "output_type": "stream",
     "text": [
      "a is 1\n"
     ]
    }
   ],
   "source": [
    "print('a is 1') if a == 1 else print('a is not 2')"
   ]
  },
  {
   "cell_type": "code",
   "execution_count": null,
   "id": "331f2465-37bb-408f-bacd-f07b1eb5982a",
   "metadata": {},
   "outputs": [],
   "source": []
  }
 ],
 "metadata": {
  "kernelspec": {
   "display_name": "Python 3 (ipykernel)",
   "language": "python",
   "name": "python3"
  },
  "language_info": {
   "codemirror_mode": {
    "name": "ipython",
    "version": 3
   },
   "file_extension": ".py",
   "mimetype": "text/x-python",
   "name": "python",
   "nbconvert_exporter": "python",
   "pygments_lexer": "ipython3",
   "version": "3.11.4"
  }
 },
 "nbformat": 4,
 "nbformat_minor": 5
}
