{
 "cells": [
  {
   "cell_type": "markdown",
   "id": "18441bda-9f66-49ac-a53e-9d228050cf64",
   "metadata": {},
   "source": [
    "# データ型"
   ]
  },
  {
   "cell_type": "markdown",
   "id": "a140c100-45cb-4a7c-be94-4a7f6f5e43e7",
   "metadata": {},
   "source": [
    "## int,float"
   ]
  },
  {
   "cell_type": "markdown",
   "id": "a38d2299-3402-41f9-8c18-f7707e4d80d9",
   "metadata": {},
   "source": [
    "### 整数"
   ]
  },
  {
   "cell_type": "code",
   "execution_count": 1,
   "id": "e226afdc-abd8-4346-8088-e399d6cfcc7f",
   "metadata": {
    "tags": []
   },
   "outputs": [
    {
     "data": {
      "text/plain": [
       "1"
      ]
     },
     "execution_count": 1,
     "metadata": {},
     "output_type": "execute_result"
    }
   ],
   "source": [
    "1"
   ]
  },
  {
   "cell_type": "code",
   "execution_count": 3,
   "id": "f3e097df-1f53-462d-9702-66026cee3afa",
   "metadata": {
    "tags": []
   },
   "outputs": [
    {
     "data": {
      "text/plain": [
       "int"
      ]
     },
     "execution_count": 3,
     "metadata": {},
     "output_type": "execute_result"
    }
   ],
   "source": [
    "type(1)"
   ]
  },
  {
   "cell_type": "markdown",
   "id": "d8b69abc-a543-4ebd-996c-4206bb8ff75a",
   "metadata": {},
   "source": [
    "### 浮動小数点"
   ]
  },
  {
   "cell_type": "code",
   "execution_count": 2,
   "id": "e3f83602-17d3-439c-8ad9-48381567327b",
   "metadata": {
    "tags": []
   },
   "outputs": [
    {
     "data": {
      "text/plain": [
       "1.1"
      ]
     },
     "execution_count": 2,
     "metadata": {},
     "output_type": "execute_result"
    }
   ],
   "source": [
    "1.1"
   ]
  },
  {
   "cell_type": "code",
   "execution_count": 4,
   "id": "151e9485-a495-43d4-bffc-d0302e5c0b5b",
   "metadata": {
    "tags": []
   },
   "outputs": [
    {
     "data": {
      "text/plain": [
       "float"
      ]
     },
     "execution_count": 4,
     "metadata": {},
     "output_type": "execute_result"
    }
   ],
   "source": [
    "type(1.1)"
   ]
  },
  {
   "cell_type": "markdown",
   "id": "f802029a-6bf6-4cf4-957d-773b762ab14e",
   "metadata": {},
   "source": [
    "## string"
   ]
  },
  {
   "cell_type": "markdown",
   "id": "f20a5f01-f946-4871-b06b-118b1f9d6798",
   "metadata": {},
   "source": [
    "### 文字列"
   ]
  },
  {
   "cell_type": "code",
   "execution_count": 5,
   "id": "ecf955b4-2ca5-4f79-b03a-5e22bef830ef",
   "metadata": {
    "tags": []
   },
   "outputs": [
    {
     "data": {
      "text/plain": [
       "'banana'"
      ]
     },
     "execution_count": 5,
     "metadata": {},
     "output_type": "execute_result"
    }
   ],
   "source": [
    "'banana'"
   ]
  },
  {
   "cell_type": "code",
   "execution_count": 18,
   "id": "800f3970-b420-48d8-a907-ac9ed549660d",
   "metadata": {
    "tags": []
   },
   "outputs": [
    {
     "data": {
      "text/plain": [
       "str"
      ]
     },
     "execution_count": 18,
     "metadata": {},
     "output_type": "execute_result"
    }
   ],
   "source": [
    "type('banana')"
   ]
  },
  {
   "cell_type": "markdown",
   "id": "fae7d655-33b6-49d6-81d1-e224befc0676",
   "metadata": {},
   "source": [
    "### slicing"
   ]
  },
  {
   "cell_type": "code",
   "execution_count": 6,
   "id": "02d0656e-6951-4d4f-90c6-4318efa723de",
   "metadata": {
    "tags": []
   },
   "outputs": [
    {
     "data": {
      "text/plain": [
       "'a'"
      ]
     },
     "execution_count": 6,
     "metadata": {},
     "output_type": "execute_result"
    }
   ],
   "source": [
    "'banana'[1]"
   ]
  },
  {
   "cell_type": "code",
   "execution_count": 8,
   "id": "eb69bab8-98c5-4bc1-90f9-eb218856964c",
   "metadata": {
    "tags": []
   },
   "outputs": [
    {
     "data": {
      "text/plain": [
       "'ban'"
      ]
     },
     "execution_count": 8,
     "metadata": {},
     "output_type": "execute_result"
    }
   ],
   "source": [
    "'banana'[0:3]"
   ]
  },
  {
   "cell_type": "code",
   "execution_count": 10,
   "id": "1a2b4ccb-ea9e-474c-8277-7dff1a7724d8",
   "metadata": {
    "tags": []
   },
   "outputs": [
    {
     "data": {
      "text/plain": [
       "'banana'"
      ]
     },
     "execution_count": 10,
     "metadata": {},
     "output_type": "execute_result"
    }
   ],
   "source": [
    "'banana.png'[:-4]"
   ]
  },
  {
   "cell_type": "markdown",
   "id": "109e98d0-e561-4ca9-986c-c1d8b1979ac6",
   "metadata": {},
   "source": [
    "### 文字列の結合"
   ]
  },
  {
   "cell_type": "code",
   "execution_count": 11,
   "id": "afaf0648-d0f3-43e9-86e3-f6f733b78da8",
   "metadata": {
    "tags": []
   },
   "outputs": [],
   "source": [
    "banana = 'バナナ'"
   ]
  },
  {
   "cell_type": "code",
   "execution_count": 13,
   "id": "3a45564d-3def-42b9-8c26-b5b55bfa29fe",
   "metadata": {
    "tags": []
   },
   "outputs": [
    {
     "data": {
      "text/plain": [
       "'banana is バナナ'"
      ]
     },
     "execution_count": 13,
     "metadata": {},
     "output_type": "execute_result"
    }
   ],
   "source": [
    "'banana is ' + banana"
   ]
  },
  {
   "cell_type": "code",
   "execution_count": 16,
   "id": "555b3290-7715-456b-8187-f8ebb7ca8350",
   "metadata": {
    "tags": []
   },
   "outputs": [
    {
     "data": {
      "text/plain": [
       "'banana is バナナ'"
      ]
     },
     "execution_count": 16,
     "metadata": {},
     "output_type": "execute_result"
    }
   ],
   "source": [
    "# .format()\n",
    "'banana is {}'.format(banana)"
   ]
  },
  {
   "cell_type": "code",
   "execution_count": 17,
   "id": "18f6dad4-dfd2-42eb-a6fc-da9ad10fb0e9",
   "metadata": {
    "tags": []
   },
   "outputs": [
    {
     "data": {
      "text/plain": [
       "'banana is バナナ'"
      ]
     },
     "execution_count": 17,
     "metadata": {},
     "output_type": "execute_result"
    }
   ],
   "source": [
    "# fstring\n",
    "f'banana is {banana}'"
   ]
  },
  {
   "cell_type": "markdown",
   "id": "e9358748-e891-4453-8281-d82c99d871e1",
   "metadata": {},
   "source": [
    "## list"
   ]
  },
  {
   "cell_type": "markdown",
   "id": "cac7d307-dd9a-4ad9-838c-5a33434e81be",
   "metadata": {},
   "source": [
    "### リスト"
   ]
  },
  {
   "cell_type": "code",
   "execution_count": 19,
   "id": "cfe9febf-c18a-4907-9a5c-41ee8ef83117",
   "metadata": {
    "tags": []
   },
   "outputs": [
    {
     "data": {
      "text/plain": [
       "[1, 2, 3]"
      ]
     },
     "execution_count": 19,
     "metadata": {},
     "output_type": "execute_result"
    }
   ],
   "source": [
    "[1, 2, 3]"
   ]
  },
  {
   "cell_type": "code",
   "execution_count": 20,
   "id": "7f9184ed-f3ed-4436-88df-4019f16c69b0",
   "metadata": {
    "tags": []
   },
   "outputs": [
    {
     "data": {
      "text/plain": [
       "list"
      ]
     },
     "execution_count": 20,
     "metadata": {},
     "output_type": "execute_result"
    }
   ],
   "source": [
    "type([1, 2, 3])"
   ]
  },
  {
   "cell_type": "markdown",
   "id": "10e8c1ec-5719-4b89-a749-081a25673536",
   "metadata": {},
   "source": [
    "### 要素の取得"
   ]
  },
  {
   "cell_type": "code",
   "execution_count": 21,
   "id": "f806865f-6dba-458f-8e74-5d173c2f4324",
   "metadata": {
    "tags": []
   },
   "outputs": [],
   "source": [
    "l = [1, 2, 3]"
   ]
  },
  {
   "cell_type": "code",
   "execution_count": 22,
   "id": "a9d5c293-cac7-4ec8-b378-5121431cfcc0",
   "metadata": {
    "tags": []
   },
   "outputs": [
    {
     "data": {
      "text/plain": [
       "1"
      ]
     },
     "execution_count": 22,
     "metadata": {},
     "output_type": "execute_result"
    }
   ],
   "source": [
    "l[0]"
   ]
  },
  {
   "cell_type": "code",
   "execution_count": 23,
   "id": "faa982bd-8672-4bb4-9747-ab4a5f46489b",
   "metadata": {
    "tags": []
   },
   "outputs": [
    {
     "data": {
      "text/plain": [
       "[2]"
      ]
     },
     "execution_count": 23,
     "metadata": {},
     "output_type": "execute_result"
    }
   ],
   "source": [
    "l[1:2]"
   ]
  },
  {
   "cell_type": "markdown",
   "id": "8bd5a3cc-ca0d-4cf4-ad14-81e2d36c1e4f",
   "metadata": {
    "tags": []
   },
   "source": [
    "### 要素の追加"
   ]
  },
  {
   "cell_type": "code",
   "execution_count": 25,
   "id": "a6e4cb72-7d8b-4610-9436-ff27d3b8ad77",
   "metadata": {
    "tags": []
   },
   "outputs": [
    {
     "data": {
      "text/plain": [
       "[1, 2, 3, 4]"
      ]
     },
     "execution_count": 25,
     "metadata": {},
     "output_type": "execute_result"
    }
   ],
   "source": [
    "# .append()\n",
    "l.append(4)\n",
    "l"
   ]
  },
  {
   "cell_type": "markdown",
   "id": "31690c42-f77b-4709-ad34-2f2ca3cb00ad",
   "metadata": {},
   "source": [
    "### 要素の結合 "
   ]
  },
  {
   "cell_type": "code",
   "execution_count": 26,
   "id": "74d067ba-9c80-4296-8c95-bacdcc7d985d",
   "metadata": {
    "tags": []
   },
   "outputs": [
    {
     "data": {
      "text/plain": [
       "[1, 2, 3, 4, 5, 6]"
      ]
     },
     "execution_count": 26,
     "metadata": {},
     "output_type": "execute_result"
    }
   ],
   "source": [
    "[1, 2, 3] + [4, 5, 6]"
   ]
  },
  {
   "cell_type": "markdown",
   "id": "1106dc38-95b4-4c0e-844e-6987171a273c",
   "metadata": {},
   "source": [
    "## dictionary"
   ]
  },
  {
   "cell_type": "markdown",
   "id": "57fd0cbb-ff3f-4f30-9b45-ee742ec7f10b",
   "metadata": {},
   "source": [
    "### 辞書"
   ]
  },
  {
   "cell_type": "code",
   "execution_count": 29,
   "id": "d1f39041-2b72-4196-afcb-53ff267bd238",
   "metadata": {
    "tags": []
   },
   "outputs": [
    {
     "data": {
      "text/plain": [
       "{'banana': 'バナナ', 'apple': 'リンゴ', 'orange': 'ミカン'}"
      ]
     },
     "execution_count": 29,
     "metadata": {},
     "output_type": "execute_result"
    }
   ],
   "source": [
    "{'banana':'バナナ', 'apple':'リンゴ', 'orange':'ミカン'}"
   ]
  },
  {
   "cell_type": "code",
   "execution_count": 31,
   "id": "dc15b97a-a8f4-401c-a8ab-9d17abd52ac0",
   "metadata": {
    "tags": []
   },
   "outputs": [
    {
     "data": {
      "text/plain": [
       "dict"
      ]
     },
     "execution_count": 31,
     "metadata": {},
     "output_type": "execute_result"
    }
   ],
   "source": [
    "type({'banana':'バナナ', 'apple':'リンゴ', 'orange':'ミカン'})"
   ]
  },
  {
   "cell_type": "markdown",
   "id": "25cd6ef1-a1d1-4c6e-b15b-df01d0838787",
   "metadata": {},
   "source": [
    "### 要素の取得"
   ]
  },
  {
   "cell_type": "code",
   "execution_count": 32,
   "id": "2ce71a1b-6705-4284-882b-8db15ff413d5",
   "metadata": {
    "tags": []
   },
   "outputs": [],
   "source": [
    "d = {'banana':'バナナ', 'apple':'リンゴ', 'orange':'ミカン'}"
   ]
  },
  {
   "cell_type": "code",
   "execution_count": 33,
   "id": "532b47f3-673a-4bb5-8396-79a31d25e54f",
   "metadata": {
    "tags": []
   },
   "outputs": [
    {
     "data": {
      "text/plain": [
       "'バナナ'"
      ]
     },
     "execution_count": 33,
     "metadata": {},
     "output_type": "execute_result"
    }
   ],
   "source": [
    "d['banana']"
   ]
  },
  {
   "cell_type": "markdown",
   "id": "853e8260-76bb-45e4-aabb-e2fc9b6cef51",
   "metadata": {},
   "source": [
    "### 要素の追加"
   ]
  },
  {
   "cell_type": "code",
   "execution_count": 36,
   "id": "d65f5445-1e10-44b5-89e0-6d9103e9a7f2",
   "metadata": {
    "tags": []
   },
   "outputs": [
    {
     "data": {
      "text/plain": [
       "{'banana': 'バナナ', 'apple': 'リンゴ', 'orange': 'ミカン', 'grape': 'ブドウ'}"
      ]
     },
     "execution_count": 36,
     "metadata": {},
     "output_type": "execute_result"
    }
   ],
   "source": [
    "d['grape'] = 'ブドウ'\n",
    "d"
   ]
  },
  {
   "cell_type": "markdown",
   "id": "919b0d7b-542a-4c93-8814-40bead2b1479",
   "metadata": {},
   "source": [
    "## bool"
   ]
  },
  {
   "cell_type": "code",
   "execution_count": 38,
   "id": "824c972a-20b5-42df-854c-dc5b1a6f6aa0",
   "metadata": {
    "tags": []
   },
   "outputs": [
    {
     "data": {
      "text/plain": [
       "True"
      ]
     },
     "execution_count": 38,
     "metadata": {},
     "output_type": "execute_result"
    }
   ],
   "source": [
    "True"
   ]
  },
  {
   "cell_type": "code",
   "execution_count": 39,
   "id": "61757583-96b9-451c-81a0-e09d69f37067",
   "metadata": {
    "tags": []
   },
   "outputs": [
    {
     "data": {
      "text/plain": [
       "False"
      ]
     },
     "execution_count": 39,
     "metadata": {},
     "output_type": "execute_result"
    }
   ],
   "source": [
    "False"
   ]
  },
  {
   "cell_type": "code",
   "execution_count": 40,
   "id": "4ae4b945-d282-42d5-bf05-44e9a6a3a945",
   "metadata": {
    "tags": []
   },
   "outputs": [
    {
     "data": {
      "text/plain": [
       "bool"
      ]
     },
     "execution_count": 40,
     "metadata": {},
     "output_type": "execute_result"
    }
   ],
   "source": [
    "type(True)"
   ]
  },
  {
   "cell_type": "markdown",
   "id": "1bcc4467-6d1f-4463-8c24-059672b2a87f",
   "metadata": {},
   "source": [
    "## tuple"
   ]
  },
  {
   "cell_type": "code",
   "execution_count": 41,
   "id": "b7a5b25c-55dd-4585-a816-b39b33c576a7",
   "metadata": {
    "tags": []
   },
   "outputs": [
    {
     "data": {
      "text/plain": [
       "(1, 2, 3)"
      ]
     },
     "execution_count": 41,
     "metadata": {},
     "output_type": "execute_result"
    }
   ],
   "source": [
    "(1, 2, 3)"
   ]
  },
  {
   "cell_type": "code",
   "execution_count": 42,
   "id": "61c0ff87-9241-40bf-b781-3b89f9995f05",
   "metadata": {
    "tags": []
   },
   "outputs": [
    {
     "data": {
      "text/plain": [
       "tuple"
      ]
     },
     "execution_count": 42,
     "metadata": {},
     "output_type": "execute_result"
    }
   ],
   "source": [
    "type((1, 2, 3))"
   ]
  },
  {
   "cell_type": "markdown",
   "id": "9cc8e8fb-f720-4878-bb7f-316c30b7ae14",
   "metadata": {},
   "source": [
    "## set"
   ]
  },
  {
   "cell_type": "code",
   "execution_count": 43,
   "id": "9fb6f735-95cd-420a-a440-41b5b6d6ee0d",
   "metadata": {
    "tags": []
   },
   "outputs": [
    {
     "data": {
      "text/plain": [
       "{1, 2, 3}"
      ]
     },
     "execution_count": 43,
     "metadata": {},
     "output_type": "execute_result"
    }
   ],
   "source": [
    "{1, 1, 2, 2, 3, 3}"
   ]
  },
  {
   "cell_type": "code",
   "execution_count": 44,
   "id": "4bed0434-d2f7-4195-9a25-2710615e851c",
   "metadata": {
    "tags": []
   },
   "outputs": [
    {
     "data": {
      "text/plain": [
       "set"
      ]
     },
     "execution_count": 44,
     "metadata": {},
     "output_type": "execute_result"
    }
   ],
   "source": [
    "type({1, 1, 2, 2, 3, 3})"
   ]
  },
  {
   "cell_type": "code",
   "execution_count": null,
   "id": "a1bdd386-457c-490b-8a28-e077a7d2cac0",
   "metadata": {},
   "outputs": [],
   "source": []
  }
 ],
 "metadata": {
  "kernelspec": {
   "display_name": "Python 3 (ipykernel)",
   "language": "python",
   "name": "python3"
  },
  "language_info": {
   "codemirror_mode": {
    "name": "ipython",
    "version": 3
   },
   "file_extension": ".py",
   "mimetype": "text/x-python",
   "name": "python",
   "nbconvert_exporter": "python",
   "pygments_lexer": "ipython3",
   "version": "3.11.4"
  }
 },
 "nbformat": 4,
 "nbformat_minor": 5
}
