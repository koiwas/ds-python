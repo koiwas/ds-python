{
 "cells": [
  {
   "cell_type": "markdown",
   "id": "93caad19-f31f-4369-90bd-cc73e2ecf444",
   "metadata": {},
   "source": [
    "# 繰り返し(for文)"
   ]
  },
  {
   "cell_type": "code",
   "execution_count": 1,
   "id": "308972ac-b588-4802-a2aa-ce14ef7fab0a",
   "metadata": {
    "tags": []
   },
   "outputs": [],
   "source": [
    "foods = ['banana', 'apple', 'orange']"
   ]
  },
  {
   "cell_type": "code",
   "execution_count": 2,
   "id": "90d7dfe0-a3b0-4927-9d07-a728df0fd3a5",
   "metadata": {
    "tags": []
   },
   "outputs": [
    {
     "name": "stdout",
     "output_type": "stream",
     "text": [
      "banana\n",
      "apple\n",
      "orange\n"
     ]
    }
   ],
   "source": [
    "for food in foods:\n",
    "    print(food)"
   ]
  },
  {
   "cell_type": "code",
   "execution_count": 3,
   "id": "f59c4bc8-3f84-472c-a25c-3f7883c2e878",
   "metadata": {
    "tags": []
   },
   "outputs": [
    {
     "name": "stdout",
     "output_type": "stream",
     "text": [
      "0: banana\n",
      "1: apple\n",
      "2: orange\n"
     ]
    }
   ],
   "source": [
    "# enumerate()\n",
    "for idx, food in enumerate(foods):\n",
    "    print(f'{idx}: {food}')"
   ]
  },
  {
   "cell_type": "code",
   "execution_count": 4,
   "id": "263dc5ac-a201-477c-91c8-e15e49a7084b",
   "metadata": {
    "jupyter": {
     "source_hidden": true
    },
    "tags": []
   },
   "outputs": [
    {
     "name": "stdout",
     "output_type": "stream",
     "text": [
      "banana\n",
      "banana\n",
      "banana\n",
      "banana\n",
      "banana\n",
      "banana\n",
      "banana\n",
      "banana\n",
      "banana\n",
      "banana\n"
     ]
    }
   ],
   "source": [
    "# range()\n",
    "for i in range(10):\n",
    "    print('banana')"
   ]
  },
  {
   "cell_type": "markdown",
   "id": "21936c03-72bc-4304-8eff-8b43ec865b7c",
   "metadata": {},
   "source": [
    "### リスト内包表記"
   ]
  },
  {
   "cell_type": "code",
   "execution_count": 9,
   "id": "a93066d0-f1e3-48e6-9aab-ad2ff2d99580",
   "metadata": {
    "tags": []
   },
   "outputs": [
    {
     "data": {
      "text/plain": [
       "['banana.png', 'apple.png', 'orange.png']"
      ]
     },
     "execution_count": 9,
     "metadata": {},
     "output_type": "execute_result"
    }
   ],
   "source": [
    "[f'{food}.png' for food in foods]"
   ]
  },
  {
   "cell_type": "code",
   "execution_count": 8,
   "id": "4202c52f-9de4-40a2-966e-ae7dbfefcae6",
   "metadata": {
    "tags": []
   },
   "outputs": [
    {
     "data": {
      "text/plain": [
       "['banana.png', 'apple.png', 'orange.png']"
      ]
     },
     "execution_count": 8,
     "metadata": {},
     "output_type": "execute_result"
    }
   ],
   "source": [
    "new_foods = []\n",
    "for food in foods:\n",
    "    new_foods.append(food + '.png')\n",
    "new_foods"
   ]
  },
  {
   "cell_type": "code",
   "execution_count": null,
   "id": "aede0e8e-dce9-497a-a175-acfca4e26dd4",
   "metadata": {},
   "outputs": [],
   "source": []
  }
 ],
 "metadata": {
  "kernelspec": {
   "display_name": "Python 3 (ipykernel)",
   "language": "python",
   "name": "python3"
  },
  "language_info": {
   "codemirror_mode": {
    "name": "ipython",
    "version": 3
   },
   "file_extension": ".py",
   "mimetype": "text/x-python",
   "name": "python",
   "nbconvert_exporter": "python",
   "pygments_lexer": "ipython3",
   "version": "3.11.4"
  }
 },
 "nbformat": 4,
 "nbformat_minor": 5
}
