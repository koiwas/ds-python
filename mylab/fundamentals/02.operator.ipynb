{
 "cells": [
  {
   "cell_type": "markdown",
   "id": "502e1cff-6061-43a2-b4a2-e3fa36c31059",
   "metadata": {},
   "source": [
    "# 演算子"
   ]
  },
  {
   "cell_type": "markdown",
   "id": "88bbb9e6-1070-4491-9b01-74a440e0046a",
   "metadata": {},
   "source": [
    "## 算術演算子"
   ]
  },
  {
   "cell_type": "code",
   "execution_count": 3,
   "id": "5d652f9b-7dd6-45ac-835b-da0c341b611a",
   "metadata": {
    "tags": []
   },
   "outputs": [
    {
     "data": {
      "text/plain": [
       "2"
      ]
     },
     "execution_count": 3,
     "metadata": {},
     "output_type": "execute_result"
    }
   ],
   "source": [
    "#　加算\n",
    "1 + 1"
   ]
  },
  {
   "cell_type": "code",
   "execution_count": 4,
   "id": "cee45745-fc5d-4d77-8f2c-a5e4a014487f",
   "metadata": {
    "tags": []
   },
   "outputs": [
    {
     "data": {
      "text/plain": [
       "1"
      ]
     },
     "execution_count": 4,
     "metadata": {},
     "output_type": "execute_result"
    }
   ],
   "source": [
    "# 減算\n",
    "2 - 1"
   ]
  },
  {
   "cell_type": "code",
   "execution_count": 5,
   "id": "26670f40-d75b-4ecc-8ec3-81ea36a9fe73",
   "metadata": {
    "tags": []
   },
   "outputs": [
    {
     "data": {
      "text/plain": [
       "6"
      ]
     },
     "execution_count": 5,
     "metadata": {},
     "output_type": "execute_result"
    }
   ],
   "source": [
    "# 乗算\n",
    "2 * 3"
   ]
  },
  {
   "cell_type": "code",
   "execution_count": 7,
   "id": "d2a63467-dc8a-4623-b745-30410297e16e",
   "metadata": {
    "tags": []
   },
   "outputs": [
    {
     "data": {
      "text/plain": [
       "2.5"
      ]
     },
     "execution_count": 7,
     "metadata": {},
     "output_type": "execute_result"
    }
   ],
   "source": [
    "# 除算\n",
    "5 / 2"
   ]
  },
  {
   "cell_type": "code",
   "execution_count": 8,
   "id": "97871159-04b1-4665-9c5a-7ed63cf37bfd",
   "metadata": {
    "tags": []
   },
   "outputs": [
    {
     "data": {
      "text/plain": [
       "2"
      ]
     },
     "execution_count": 8,
     "metadata": {},
     "output_type": "execute_result"
    }
   ],
   "source": [
    "# 商\n",
    "5 // 2"
   ]
  },
  {
   "cell_type": "code",
   "execution_count": 9,
   "id": "a63be655-e0b7-4a1d-9be9-47a0f2cd2170",
   "metadata": {
    "tags": []
   },
   "outputs": [
    {
     "data": {
      "text/plain": [
       "1"
      ]
     },
     "execution_count": 9,
     "metadata": {},
     "output_type": "execute_result"
    }
   ],
   "source": [
    "# 剰余\n",
    "5 % 2"
   ]
  },
  {
   "cell_type": "code",
   "execution_count": 10,
   "id": "70288fe9-b492-41e8-8e85-38292cdd9132",
   "metadata": {
    "tags": []
   },
   "outputs": [
    {
     "data": {
      "text/plain": [
       "8"
      ]
     },
     "execution_count": 10,
     "metadata": {},
     "output_type": "execute_result"
    }
   ],
   "source": [
    "# べき乗\n",
    "2 ** 3"
   ]
  },
  {
   "cell_type": "markdown",
   "id": "de1a6772-ae7e-4efd-9424-99163530028e",
   "metadata": {},
   "source": [
    "## 代入演算子 "
   ]
  },
  {
   "cell_type": "code",
   "execution_count": 11,
   "id": "51e20781-8d6a-4ca2-b61c-983c1059ce84",
   "metadata": {
    "tags": []
   },
   "outputs": [],
   "source": [
    "i = 0"
   ]
  },
  {
   "cell_type": "code",
   "execution_count": 12,
   "id": "a6e9aec6-ca96-4e54-816f-e456e0c9bd43",
   "metadata": {
    "tags": []
   },
   "outputs": [],
   "source": [
    "i += 1"
   ]
  },
  {
   "cell_type": "code",
   "execution_count": 13,
   "id": "f28982b7-2c38-42dc-afd0-d61af436a86f",
   "metadata": {
    "tags": []
   },
   "outputs": [
    {
     "data": {
      "text/plain": [
       "1"
      ]
     },
     "execution_count": 13,
     "metadata": {},
     "output_type": "execute_result"
    }
   ],
   "source": [
    "i"
   ]
  },
  {
   "cell_type": "markdown",
   "id": "43a31f0b-b8cb-445a-bea1-20527be3e3a4",
   "metadata": {},
   "source": [
    "## 比較演算子, 論理演算子"
   ]
  },
  {
   "cell_type": "code",
   "execution_count": 14,
   "id": "8435c263-4436-4249-8dcc-5b796858e4e6",
   "metadata": {
    "tags": []
   },
   "outputs": [
    {
     "data": {
      "text/plain": [
       "True"
      ]
     },
     "execution_count": 14,
     "metadata": {},
     "output_type": "execute_result"
    }
   ],
   "source": [
    "2 > 1"
   ]
  },
  {
   "cell_type": "code",
   "execution_count": 15,
   "id": "49328078-644a-4d25-b7f8-2ad73e09a8e0",
   "metadata": {
    "tags": []
   },
   "outputs": [
    {
     "data": {
      "text/plain": [
       "True"
      ]
     },
     "execution_count": 15,
     "metadata": {},
     "output_type": "execute_result"
    }
   ],
   "source": [
    "1 <= 2"
   ]
  },
  {
   "cell_type": "code",
   "execution_count": 16,
   "id": "e4474e72-0c4e-450f-b40e-ebe074649898",
   "metadata": {
    "tags": []
   },
   "outputs": [
    {
     "data": {
      "text/plain": [
       "True"
      ]
     },
     "execution_count": 16,
     "metadata": {},
     "output_type": "execute_result"
    }
   ],
   "source": [
    "1 == 1"
   ]
  },
  {
   "cell_type": "code",
   "execution_count": 17,
   "id": "2d71924f-54a3-4f48-a82b-a0bd5edb027d",
   "metadata": {
    "tags": []
   },
   "outputs": [
    {
     "data": {
      "text/plain": [
       "False"
      ]
     },
     "execution_count": 17,
     "metadata": {},
     "output_type": "execute_result"
    }
   ],
   "source": [
    "1 != 1"
   ]
  },
  {
   "cell_type": "code",
   "execution_count": 21,
   "id": "2e7e3097-75f0-4d96-a87c-39f07914e413",
   "metadata": {
    "tags": []
   },
   "outputs": [
    {
     "data": {
      "text/plain": [
       "True"
      ]
     },
     "execution_count": 21,
     "metadata": {},
     "output_type": "execute_result"
    }
   ],
   "source": [
    "(2 > 1) and (2 >= 1)"
   ]
  },
  {
   "cell_type": "code",
   "execution_count": 22,
   "id": "f585e6c8-eb8b-4276-bd21-4631f5f18ac5",
   "metadata": {
    "tags": []
   },
   "outputs": [
    {
     "data": {
      "text/plain": [
       "True"
      ]
     },
     "execution_count": 22,
     "metadata": {},
     "output_type": "execute_result"
    }
   ],
   "source": [
    "# 左がTrueであれば右は評価しない\n",
    "(2 > 1) or (x > 2)"
   ]
  },
  {
   "cell_type": "code",
   "execution_count": null,
   "id": "26c84a4a-7641-41ee-9d77-6f114c2bccd1",
   "metadata": {},
   "outputs": [],
   "source": []
  }
 ],
 "metadata": {
  "kernelspec": {
   "display_name": "Python 3 (ipykernel)",
   "language": "python",
   "name": "python3"
  },
  "language_info": {
   "codemirror_mode": {
    "name": "ipython",
    "version": 3
   },
   "file_extension": ".py",
   "mimetype": "text/x-python",
   "name": "python",
   "nbconvert_exporter": "python",
   "pygments_lexer": "ipython3",
   "version": "3.11.4"
  }
 },
 "nbformat": 4,
 "nbformat_minor": 5
}
