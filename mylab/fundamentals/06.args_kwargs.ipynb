{
 "cells": [
  {
   "cell_type": "markdown",
   "id": "da0f597a-503b-4ec7-bdb0-74f597978ba5",
   "metadata": {},
   "source": [
    "## *argsと**kwargs"
   ]
  },
  {
   "cell_type": "markdown",
   "id": "545699f1-c9df-44a7-8cfb-fcadc437327f",
   "metadata": {},
   "source": [
    "## *args"
   ]
  },
  {
   "cell_type": "code",
   "execution_count": 8,
   "id": "5f974db1-683d-4860-9445-bd47317525d9",
   "metadata": {
    "tags": []
   },
   "outputs": [],
   "source": [
    "def sample_args(*args):\n",
    "    print(f'You enter {args}')\n",
    "    return args[0] + args[1]"
   ]
  },
  {
   "cell_type": "code",
   "execution_count": 9,
   "id": "44b75e2d-0c54-434a-be78-c937122224a4",
   "metadata": {
    "tags": []
   },
   "outputs": [
    {
     "name": "stdout",
     "output_type": "stream",
     "text": [
      "You enter (1, 3, 5)\n"
     ]
    },
    {
     "data": {
      "text/plain": [
       "4"
      ]
     },
     "execution_count": 9,
     "metadata": {},
     "output_type": "execute_result"
    }
   ],
   "source": [
    "sample_args(1, 3, 5)"
   ]
  },
  {
   "cell_type": "code",
   "execution_count": 34,
   "id": "47be0472-3516-4991-9e7b-77b692a24442",
   "metadata": {
    "tags": []
   },
   "outputs": [],
   "source": [
    "def create_png_list(*args):\n",
    "    \n",
    "    print(f'You enter {args}')\n",
    "\n",
    "    png_list = []\n",
    "\n",
    "    for filename in args:\n",
    "    \n",
    "        extension = filename.split('.')[-1]\n",
    "    \n",
    "        if extension == 'png':\n",
    "            png_list.append(filename)\n",
    "\n",
    "    return png_list"
   ]
  },
  {
   "cell_type": "code",
   "execution_count": 35,
   "id": "9ba4ade0-4252-4970-8a1b-16b1315268d1",
   "metadata": {
    "tags": []
   },
   "outputs": [
    {
     "name": "stdout",
     "output_type": "stream",
     "text": [
      "You enter ('image1.png', 'image2.jpg', 'image3.png')\n"
     ]
    },
    {
     "data": {
      "text/plain": [
       "['image1.png', 'image3.png']"
      ]
     },
     "execution_count": 35,
     "metadata": {},
     "output_type": "execute_result"
    }
   ],
   "source": [
    "create_png_list('image1.png', 'image2.jpg', 'image3.png')"
   ]
  },
  {
   "cell_type": "markdown",
   "id": "3cc4540c-44dd-4c45-8498-9aa8cd308932",
   "metadata": {},
   "source": [
    "## **kwargs"
   ]
  },
  {
   "cell_type": "code",
   "execution_count": 44,
   "id": "0e138975-93a3-4690-8cd8-2bb1a01d589d",
   "metadata": {
    "tags": []
   },
   "outputs": [],
   "source": [
    "def sample_kwargs(**kwargs):\n",
    "    print(f'kwargs is {kwargs}')\n",
    "    param_a = kwargs.get('a', 100)\n",
    "    param_b = kwargs.get('b', 100)\n",
    "    param_c = kwargs.get('c', 100)\n",
    "    print(f'a is {param_a}')\n",
    "    print(f'b is {param_b}')\n",
    "    print(f'c is {param_c}')"
   ]
  },
  {
   "cell_type": "code",
   "execution_count": 45,
   "id": "c8cc7c5c-781a-4148-a239-cc28922636b2",
   "metadata": {
    "tags": []
   },
   "outputs": [
    {
     "name": "stdout",
     "output_type": "stream",
     "text": [
      "kwargs is {'a': 1, 'b': 2}\n",
      "a is 1\n",
      "b is 2\n",
      "c is 100\n"
     ]
    }
   ],
   "source": [
    "sample_kwargs(a=1, b=2)"
   ]
  },
  {
   "cell_type": "markdown",
   "id": "d797ab6d-ca8c-476a-bb07-461b93561043",
   "metadata": {},
   "source": [
    "## unpacking operator"
   ]
  },
  {
   "cell_type": "markdown",
   "id": "2e5a85d8-0ba4-4984-92c2-eb917afc082a",
   "metadata": {},
   "source": [
    "### list"
   ]
  },
  {
   "cell_type": "code",
   "execution_count": 46,
   "id": "700ee570-dabd-4c8f-a73e-b2a7bcf85943",
   "metadata": {
    "tags": []
   },
   "outputs": [
    {
     "name": "stdout",
     "output_type": "stream",
     "text": [
      "[1, 2, 3]\n",
      "1 2 3\n"
     ]
    }
   ],
   "source": [
    "a = [1, 2, 3]\n",
    "print(a)\n",
    "print(*a)"
   ]
  },
  {
   "cell_type": "code",
   "execution_count": 48,
   "id": "c87e106d-8fbf-453f-8a78-04b98c2b0ed5",
   "metadata": {
    "tags": []
   },
   "outputs": [
    {
     "name": "stdout",
     "output_type": "stream",
     "text": [
      "[1, 2, 3, 4, 5, 6]\n"
     ]
    }
   ],
   "source": [
    "a = [1, 2, 3]\n",
    "b = [4, 5, 6]\n",
    "a_b = [*a, *b]\n",
    "print(a_b)"
   ]
  },
  {
   "cell_type": "markdown",
   "id": "189fdb2a-bffa-411e-a9c6-1159a252266f",
   "metadata": {},
   "source": [
    "### dict"
   ]
  },
  {
   "cell_type": "code",
   "execution_count": 50,
   "id": "e3367f70-a42c-4ab8-b74f-9ce233768f2b",
   "metadata": {
    "tags": []
   },
   "outputs": [
    {
     "name": "stdout",
     "output_type": "stream",
     "text": [
      "{'one': 1, 'two': 2, 'three': 3, 'four': 4}\n"
     ]
    }
   ],
   "source": [
    "x = {'one':1, 'two':2}\n",
    "y = {'three':3, 'four':4}\n",
    "x_y = {**x, **y}\n",
    "print(x_y)"
   ]
  },
  {
   "cell_type": "markdown",
   "id": "cee28b03-669f-4a9d-9894-b289c2b766c0",
   "metadata": {},
   "source": [
    "### rapper"
   ]
  },
  {
   "cell_type": "code",
   "execution_count": 51,
   "id": "5b939fb6-7f95-46d6-85c2-80834cf92619",
   "metadata": {
    "tags": []
   },
   "outputs": [],
   "source": [
    "def add_extension(filename, idx=0, extension='.jpg'):\n",
    "    \n",
    "    return '{}_{}{}'.format(filename, idx, extension)"
   ]
  },
  {
   "cell_type": "code",
   "execution_count": 55,
   "id": "317307ac-93f8-475d-b709-6b805261094b",
   "metadata": {
    "tags": []
   },
   "outputs": [
    {
     "data": {
      "text/plain": [
       "'hoge_1.png'"
      ]
     },
     "execution_count": 55,
     "metadata": {},
     "output_type": "execute_result"
    }
   ],
   "source": [
    "add_extension('hoge', 1, '.png')"
   ]
  },
  {
   "cell_type": "code",
   "execution_count": 57,
   "id": "4814100e-47d9-4069-8dcf-825f57860937",
   "metadata": {
    "tags": []
   },
   "outputs": [],
   "source": [
    "def wrap_add_extension(args):\n",
    "    return add_extension(*args)"
   ]
  },
  {
   "cell_type": "code",
   "execution_count": 58,
   "id": "3280b276-305f-4d83-8a06-33d7f0078f2b",
   "metadata": {
    "tags": []
   },
   "outputs": [
    {
     "data": {
      "text/plain": [
       "'hoge_1.png'"
      ]
     },
     "execution_count": 58,
     "metadata": {},
     "output_type": "execute_result"
    }
   ],
   "source": [
    "arg_tuple = ('hoge', 1, '.png')\n",
    "wrap_add_extension(arg_tuple)"
   ]
  },
  {
   "cell_type": "code",
   "execution_count": 59,
   "id": "b84eb5bf-33f1-4981-a6f9-02eb682de33f",
   "metadata": {
    "tags": []
   },
   "outputs": [
    {
     "data": {
      "text/plain": [
       "['hoge_1.png', 'hoge_2.txt', 'hoge_3.jpg']"
      ]
     },
     "execution_count": 59,
     "metadata": {},
     "output_type": "execute_result"
    }
   ],
   "source": [
    "arg_list = [('hoge', 1, '.png'), ('hoge', 2, '.txt'), ('hoge', 3, '.jpg')]\n",
    "[wrap_add_extension(arg) for arg in arg_list]"
   ]
  },
  {
   "cell_type": "code",
   "execution_count": null,
   "id": "0ceaad30-b5f5-48c1-a0c6-a2861821e51b",
   "metadata": {},
   "outputs": [],
   "source": []
  }
 ],
 "metadata": {
  "kernelspec": {
   "display_name": "Python 3 (ipykernel)",
   "language": "python",
   "name": "python3"
  },
  "language_info": {
   "codemirror_mode": {
    "name": "ipython",
    "version": 3
   },
   "file_extension": ".py",
   "mimetype": "text/x-python",
   "name": "python",
   "nbconvert_exporter": "python",
   "pygments_lexer": "ipython3",
   "version": "3.11.4"
  }
 },
 "nbformat": 4,
 "nbformat_minor": 5
}
