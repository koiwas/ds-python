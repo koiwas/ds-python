{
 "cells": [
  {
   "cell_type": "markdown",
   "id": "51b2f5a0-24fa-4794-9f55-8e3d68a33789",
   "metadata": {},
   "source": [
    "# 演習"
   ]
  },
  {
   "cell_type": "markdown",
   "id": "eb7caf21-61c0-4aab-bb91-796d2b704b07",
   "metadata": {},
   "source": [
    "リストを引数にして各要素に'_{index}.png'を付けたリストを返す関数"
   ]
  },
  {
   "cell_type": "markdown",
   "id": "1ece2a7a-6085-4170-ad56-63d6453d9fe9",
   "metadata": {},
   "source": [
    "## 例1"
   ]
  },
  {
   "cell_type": "code",
   "execution_count": 1,
   "id": "33d813aa-7158-45ad-8d04-c6d771a7468b",
   "metadata": {
    "tags": []
   },
   "outputs": [],
   "source": [
    "filelist = ['filename1', 'filename2', 'filename3']"
   ]
  },
  {
   "cell_type": "code",
   "execution_count": 2,
   "id": "d11098b8-e242-4197-96b0-6e9ad7969e0b",
   "metadata": {
    "tags": []
   },
   "outputs": [],
   "source": [
    "def add_png(your_filelist, extension='png'):\n",
    "    '''\n",
    "    hogehoge\n",
    "    \n",
    "    Prams\n",
    "    ----------\n",
    "        your_filelist: ファイル名のリスト\n",
    "        extension: 拡張子\n",
    "    \n",
    "    Return\n",
    "    ----------\n",
    "        result: '{filename}_[idx}.{extension}'\n",
    "        ['filename1'] ==>> ['filename1_0.png']\n",
    "    '''\n",
    "    \n",
    "    result = []\n",
    "    \n",
    "    for idx, filename in enumerate(your_filelist):\n",
    "        new_filename = '{}_{}.{}'.format(filename, idx, extension)\n",
    "        result.append(new_filename)\n",
    "        \n",
    "    return result"
   ]
  },
  {
   "cell_type": "code",
   "execution_count": 3,
   "id": "9556253d-18f1-4ee7-b770-8b97983f05c1",
   "metadata": {
    "tags": []
   },
   "outputs": [
    {
     "data": {
      "text/plain": [
       "['filename1_0.png', 'filename2_1.png', 'filename3_2.png']"
      ]
     },
     "execution_count": 3,
     "metadata": {},
     "output_type": "execute_result"
    }
   ],
   "source": [
    "add_png(filelist)"
   ]
  },
  {
   "cell_type": "markdown",
   "id": "67a7ec8b-ff6a-4c75-a594-b9a30c225f19",
   "metadata": {},
   "source": [
    "## 例2"
   ]
  },
  {
   "cell_type": "code",
   "execution_count": 4,
   "id": "cbd02acd-1ade-4e51-8df8-5e6f87cfa42a",
   "metadata": {
    "tags": []
   },
   "outputs": [],
   "source": [
    "x = lambda a, b: [f'{filename}_{idx}.{b}' for idx, filename in enumerate(a)]"
   ]
  },
  {
   "cell_type": "code",
   "execution_count": 5,
   "id": "e9cdc5b5-287a-4b1e-916d-0ddbd087cf53",
   "metadata": {
    "tags": []
   },
   "outputs": [
    {
     "data": {
      "text/plain": [
       "['filename1_0.jpg', 'filename2_1.jpg', 'filename3_2.jpg']"
      ]
     },
     "execution_count": 5,
     "metadata": {},
     "output_type": "execute_result"
    }
   ],
   "source": [
    "x(filelist, 'jpg')"
   ]
  },
  {
   "cell_type": "code",
   "execution_count": null,
   "id": "b017f8cc-faec-4c59-8a43-61188e9536b3",
   "metadata": {},
   "outputs": [],
   "source": []
  }
 ],
 "metadata": {
  "kernelspec": {
   "display_name": "Python 3 (ipykernel)",
   "language": "python",
   "name": "python3"
  },
  "language_info": {
   "codemirror_mode": {
    "name": "ipython",
    "version": 3
   },
   "file_extension": ".py",
   "mimetype": "text/x-python",
   "name": "python",
   "nbconvert_exporter": "python",
   "pygments_lexer": "ipython3",
   "version": "3.11.4"
  }
 },
 "nbformat": 4,
 "nbformat_minor": 5
}
