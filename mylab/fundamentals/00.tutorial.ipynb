{
 "cells": [
  {
   "cell_type": "markdown",
   "id": "d1cf980e-bbd0-4a21-97cd-358d3eeae1bc",
   "metadata": {},
   "source": [
    "# Jupyter Notebookの基本操作"
   ]
  },
  {
   "cell_type": "markdown",
   "id": "33f51463-6021-49e8-a490-1ac571dec1a4",
   "metadata": {},
   "source": [
    "## モードの切り替え"
   ]
  },
  {
   "cell_type": "markdown",
   "id": "f969165b-1d21-4264-9077-bb7f865bccf9",
   "metadata": {},
   "source": [
    "- コマンドモード：ESC\n",
    "- 編集モード：Enter"
   ]
  },
  {
   "cell_type": "markdown",
   "id": "1751bfdc-4b61-4389-9a38-3fbcca036df6",
   "metadata": {},
   "source": [
    "## セルの切り替え"
   ]
  },
  {
   "cell_type": "markdown",
   "id": "79024493-e8e9-4120-9d2b-03305984775b",
   "metadata": {},
   "source": [
    "- Markdown：ESC→M\n",
    "- Code：ESC→Y"
   ]
  },
  {
   "cell_type": "markdown",
   "id": "b0297fe7-4e76-4ad0-ba89-3c782550d16e",
   "metadata": {},
   "source": [
    "## セルの操作"
   ]
  },
  {
   "cell_type": "markdown",
   "id": "2ce2904a-e5ba-46a5-ac60-9ec4b1b47659",
   "metadata": {},
   "source": [
    "- セル追加（上）：ESC→A\n",
    "- セル追加（下）：ESC→B\n",
    "- セル削除：ESC→D→D\n",
    "- 実行：Shift+Enter\n",
    "- 実行（セル追加）：Alt+Enter"
   ]
  },
  {
   "cell_type": "code",
   "execution_count": null,
   "id": "273a5d70-1b3e-4db8-9e83-60831a1cb10d",
   "metadata": {},
   "outputs": [],
   "source": []
  }
 ],
 "metadata": {
  "kernelspec": {
   "display_name": "Python 3 (ipykernel)",
   "language": "python",
   "name": "python3"
  },
  "language_info": {
   "codemirror_mode": {
    "name": "ipython",
    "version": 3
   },
   "file_extension": ".py",
   "mimetype": "text/x-python",
   "name": "python",
   "nbconvert_exporter": "python",
   "pygments_lexer": "ipython3",
   "version": "3.11.4"
  }
 },
 "nbformat": 4,
 "nbformat_minor": 5
}
