{
 "cells": [
  {
   "cell_type": "markdown",
   "id": "b863997d-0087-4f3b-a1f2-71b679a8899a",
   "metadata": {},
   "source": [
    "# 関数"
   ]
  },
  {
   "cell_type": "code",
   "execution_count": 1,
   "id": "556b024c-c2cd-422d-a3f2-653f27a7f8a1",
   "metadata": {
    "tags": []
   },
   "outputs": [],
   "source": [
    "def squared(a):\n",
    "    return a ** 2"
   ]
  },
  {
   "cell_type": "code",
   "execution_count": 2,
   "id": "68d3286b-e99a-4dfb-b9dc-cdec4eee090a",
   "metadata": {
    "tags": []
   },
   "outputs": [],
   "source": [
    "result = squared(3)"
   ]
  },
  {
   "cell_type": "code",
   "execution_count": 3,
   "id": "dfabce65-8d88-490f-8ea4-091ebb0c4db7",
   "metadata": {
    "tags": []
   },
   "outputs": [
    {
     "data": {
      "text/plain": [
       "9"
      ]
     },
     "execution_count": 3,
     "metadata": {},
     "output_type": "execute_result"
    }
   ],
   "source": [
    "result"
   ]
  },
  {
   "cell_type": "code",
   "execution_count": 4,
   "id": "5a7c11d9-a4f4-4d3b-85c7-b6359e8fa5c7",
   "metadata": {
    "tags": []
   },
   "outputs": [],
   "source": [
    "def color_judge(color_list):\n",
    "    for color in color_list:\n",
    "        favorite_color = 'red'\n",
    "        if color == favorite_color:\n",
    "            print(f'{color} is my favorite color')\n",
    "        else:\n",
    "            print(f'{color} is not my favorite color')"
   ]
  },
  {
   "cell_type": "code",
   "execution_count": 5,
   "id": "82321a1d-9128-4d0e-b820-946d2563019b",
   "metadata": {
    "tags": []
   },
   "outputs": [],
   "source": [
    "colors = ['red', 'blue', 'yellow']"
   ]
  },
  {
   "cell_type": "code",
   "execution_count": 6,
   "id": "9fb49168-f105-4dd2-8288-2652ad5b99b9",
   "metadata": {
    "tags": []
   },
   "outputs": [
    {
     "name": "stdout",
     "output_type": "stream",
     "text": [
      "red is my favorite color\n",
      "blue is not my favorite color\n",
      "yellow is not my favorite color\n"
     ]
    }
   ],
   "source": [
    "color_judge(colors)"
   ]
  },
  {
   "cell_type": "markdown",
   "id": "348b7768-db1e-4f93-b9cb-ab9fda4423cc",
   "metadata": {},
   "source": [
    "### lambda関数"
   ]
  },
  {
   "cell_type": "code",
   "execution_count": 8,
   "id": "505d74dc-7ecc-4e93-ab2e-27b8861568b6",
   "metadata": {
    "tags": []
   },
   "outputs": [],
   "source": [
    "x = lambda a: a ** 2"
   ]
  },
  {
   "cell_type": "code",
   "execution_count": 9,
   "id": "e0c8d8a9-ec96-4c39-a590-f1ef44698507",
   "metadata": {
    "tags": []
   },
   "outputs": [
    {
     "data": {
      "text/plain": [
       "9"
      ]
     },
     "execution_count": 9,
     "metadata": {},
     "output_type": "execute_result"
    }
   ],
   "source": [
    "x(3)"
   ]
  },
  {
   "cell_type": "code",
   "execution_count": null,
   "id": "eea71f7d-03c7-4fe6-b7d0-b01dfb9c0d93",
   "metadata": {},
   "outputs": [],
   "source": []
  }
 ],
 "metadata": {
  "kernelspec": {
   "display_name": "Python 3 (ipykernel)",
   "language": "python",
   "name": "python3"
  },
  "language_info": {
   "codemirror_mode": {
    "name": "ipython",
    "version": 3
   },
   "file_extension": ".py",
   "mimetype": "text/x-python",
   "name": "python",
   "nbconvert_exporter": "python",
   "pygments_lexer": "ipython3",
   "version": "3.11.4"
  }
 },
 "nbformat": 4,
 "nbformat_minor": 5
}
